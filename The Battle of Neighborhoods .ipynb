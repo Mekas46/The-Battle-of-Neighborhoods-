{
    "nbformat_minor": 1, 
    "cells": [
        {
            "source": "## Introduction / Business Plan ", 
            "cell_type": "markdown", 
            "metadata": {}
        }, 
        {
            "source": "### There is a few group of Nigerians that have been presented with the opportunity of relocating to the City of Melbourne, Australia by August, 2020 and they are very excited about it because to them it is an opportunity of a lifetime.\n\n### The group is made up of two classes of people; unskilled people and business people and both classes seems to a similar concern which is the problem. Both classes have never travelled out of Nigeria and they wished to know the kind of venues and places that are available in the city of Melbourne. \n\n### For the unskilled people, this will help them know what kind of skills they might need to immediately acquire to help them secure jobs immediately, when they eventually get there. For the business class, knowing that environment will let know and prepare for the kind of business opportunities they can leverage on when they eventually move over there.", 
            "cell_type": "markdown", 
            "metadata": {}
        }, 
        {
            "source": "### The Data Section ", 
            "cell_type": "markdown", 
            "metadata": {}
        }, 
        {
            "source": "#### There is a Wikipedia page https://en.m.wikipedia.org/wiki/wikipedia_talk:WikipediaProject_melbourne/suburbs that contains information about Melbourne Cities and Shires. I intend from the page to scrap the data of the City of Melbourne, then explore the venues and the places there with the concerns and problem of this group of Nigerians in mind. \n\n#### All I need to do is let them the venues and places that are available over there in Melbourne so that both classes can adequately prepare for their relocation. With this information, the unskilled ones will immediately know the skills they will need to be able to immediately secure jobs over there and train for it while the business class will know what business opportunities that exist over there.", 
            "cell_type": "markdown", 
            "metadata": {}
        }, 
        {
            "execution_count": 14, 
            "cell_type": "code", 
            "metadata": {}, 
            "outputs": [], 
            "source": "from bs4 import BeautifulSoup \nimport requests \nimport pandas as pd "
        }, 
        {
            "execution_count": 15, 
            "cell_type": "code", 
            "metadata": {}, 
            "outputs": [], 
            "source": "source = requests.get('https://en.m.wikipedia.org/wiki/Wikipedia_talk:WikiProject_Melbourne/Suburbs').text\nsoup = BeautifulSoup(source, 'lxml')\ntable = soup.find('table', {'class':\"wikitable\"})\n# table "
        }, 
        {
            "execution_count": 16, 
            "cell_type": "code", 
            "metadata": {}, 
            "outputs": [
                {
                    "execution_count": 16, 
                    "metadata": {}, 
                    "data": {
                        "text/html": "<div>\n<style scoped>\n    .dataframe tbody tr th:only-of-type {\n        vertical-align: middle;\n    }\n\n    .dataframe tbody tr th {\n        vertical-align: top;\n    }\n\n    .dataframe thead th {\n        text-align: right;\n    }\n</style>\n<table border=\"1\" class=\"dataframe\">\n  <thead>\n    <tr style=\"text-align: right;\">\n      <th></th>\n      <th>Position</th>\n      <th>Name of City/Shire</th>\n      <th>No. of Suburbs</th>\n      <th>%Complete</th>\n    </tr>\n  </thead>\n  <tbody>\n    <tr>\n      <th>0</th>\n      <td>1</td>\n      <td>City of Melbourne</td>\n      <td>12.5</td>\n      <td>0.69</td>\n    </tr>\n    <tr>\n      <th>1</th>\n      <td>2</td>\n      <td>City of Moreland</td>\n      <td>12.5</td>\n      <td>0.63</td>\n    </tr>\n    <tr>\n      <th>2</th>\n      <td>3</td>\n      <td>City of Yarra</td>\n      <td>9.5</td>\n      <td>0.61</td>\n    </tr>\n    <tr>\n      <th>3</th>\n      <td>4</td>\n      <td>City of Darebin</td>\n      <td>7.5</td>\n      <td>0.53</td>\n    </tr>\n    <tr>\n      <th>4</th>\n      <td>5</td>\n      <td>City of Knox</td>\n      <td>10.0</td>\n      <td>0.50</td>\n    </tr>\n  </tbody>\n</table>\n</div>", 
                        "text/plain": "   Position Name of City/Shire  No. of Suburbs  %Complete\n0         1  City of Melbourne            12.5       0.69\n1         2   City of Moreland            12.5       0.63\n2         3      City of Yarra             9.5       0.61\n3         4    City of Darebin             7.5       0.53\n4         5       City of Knox            10.0       0.50"
                    }, 
                    "output_type": "execute_result"
                }
            ], 
            "source": "df = pd.read_html(str(table), header=0)\ndf = pd.DataFrame(df[0])\ndf.head()"
        }, 
        {
            "source": "### The table above shows the data to be used with the City of Melbourne to be explored for venues and places on the first row.", 
            "cell_type": "markdown", 
            "metadata": {}
        }, 
        {
            "execution_count": null, 
            "cell_type": "code", 
            "metadata": {}, 
            "outputs": [], 
            "source": ""
        }
    ], 
    "metadata": {
        "kernelspec": {
            "display_name": "Python 3.5", 
            "name": "python3", 
            "language": "python"
        }, 
        "language_info": {
            "mimetype": "text/x-python", 
            "nbconvert_exporter": "python", 
            "version": "3.5.5", 
            "name": "python", 
            "file_extension": ".py", 
            "pygments_lexer": "ipython3", 
            "codemirror_mode": {
                "version": 3, 
                "name": "ipython"
            }
        }
    }, 
    "nbformat": 4
}