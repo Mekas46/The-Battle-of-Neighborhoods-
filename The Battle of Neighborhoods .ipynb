{
    "nbformat_minor": 1, 
    "cells": [
        {
            "source": "### Introduction/Business problem ", 
            "cell_type": "markdown", 
            "metadata": {
                "scrolled": true
            }
        }, 
        {
            "source": "#### There is a few group of Nigerians that have been presented with the opportunity of relocating to the City of Melbourne, Australia by August, 2020 and they are very excited about it because to them it is an opportunity of a lifetime.\n\n#### The group is made up of two classes of people; unskilled people and business people and both classes seems to a similar concern which is the problem. Both classes have never travelled out of Nigeria and they wished to know the kind of venues and places that are available in the city of  Melbourne. For the unskilled people, this will help them to know what kind of skills they might need to immediately acquire to help them secure jobs that will help them settle in immediately when they eventually get there. For the business class, knowing that environment will let know and prepare for the kind of business opportunities they can leverage on when they eventually move over there.", 
            "cell_type": "markdown", 
            "metadata": {}
        }, 
        {
            "source": "### The Data Section ", 
            "cell_type": "markdown", 
            "metadata": {}
        }, 
        {
            "source": "#### There is a Wikipedia page https://en.m.wikipedia.org/wiki/wikipedia_talk:WikipediaProject_melbourne/suburbs that contains information about Melbourne Cities and Shires. I intend from the page to scrap the data of the City of Melbourne, then explore the venues and the places there with the concerns and problem of this group of Nigerians in mind. \n\n#### All I need to do is let them the venues and places that are available over there in Melbourne so that both classes can adequately prepare for their relocation. With this information, the unskilled ones will immediately know the skills they will need to be able to immediately secure jobs over there and train for it while the business class will know what business opportunities that exist over there.", 
            "cell_type": "markdown", 
            "metadata": {}
        }, 
        {
            "execution_count": null, 
            "cell_type": "code", 
            "metadata": {}, 
            "outputs": [], 
            "source": ""
        }
    ], 
    "metadata": {
        "kernelspec": {
            "display_name": "Python 3.5", 
            "name": "python3", 
            "language": "python"
        }, 
        "language_info": {
            "mimetype": "text/x-python", 
            "nbconvert_exporter": "python", 
            "version": "3.5.5", 
            "name": "python", 
            "file_extension": ".py", 
            "pygments_lexer": "ipython3", 
            "codemirror_mode": {
                "version": 3, 
                "name": "ipython"
            }
        }
    }, 
    "nbformat": 4
}